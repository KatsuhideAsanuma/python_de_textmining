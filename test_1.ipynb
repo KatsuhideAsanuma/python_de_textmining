{
 "cells": [
  {
   "cell_type": "code",
   "execution_count": 1,
   "metadata": {},
   "outputs": [
    {
     "data": {
      "text/plain": [
       "'c:\\\\Users\\\\katsu\\\\Desktop\\\\projects\\\\data_analystics\\\\python_de_textmining'"
      ]
     },
     "execution_count": 1,
     "metadata": {},
     "output_type": "execute_result"
    }
   ],
   "source": [
    "import os\n",
    "os.getcwd()"
   ]
  },
  {
   "cell_type": "code",
   "execution_count": 3,
   "metadata": {},
   "outputs": [
    {
     "data": {
      "text/plain": [
       "['ogai_gan.txt',\n",
       " 'ogai_kanoyoni.txt',\n",
       " 'ogai_niwatori.txt',\n",
       " 'ogai_vita.txt',\n",
       " 'soseki_eijitsu.txt',\n",
       " 'soseki_garasu.txt',\n",
       " 'soseki_omoidasu.txt',\n",
       " 'soseki_yume.txt']"
      ]
     },
     "execution_count": 3,
     "metadata": {},
     "output_type": "execute_result"
    }
   ],
   "source": [
    "files=os.listdir(\"./data/writers\")\n",
    "files=sorted(files)\n",
    "files"
   ]
  },
  {
   "cell_type": "code",
   "execution_count": 4,
   "metadata": {},
   "outputs": [
    {
     "data": {
      "text/plain": [
       "['c:\\\\Users\\\\katsu\\\\Desktop\\\\projects\\\\data_analystics\\\\python_de_textmining\\\\data\\\\writers/ogai_gan.txt',\n",
       " 'c:\\\\Users\\\\katsu\\\\Desktop\\\\projects\\\\data_analystics\\\\python_de_textmining\\\\data\\\\writers/ogai_kanoyoni.txt',\n",
       " 'c:\\\\Users\\\\katsu\\\\Desktop\\\\projects\\\\data_analystics\\\\python_de_textmining\\\\data\\\\writers/ogai_niwatori.txt',\n",
       " 'c:\\\\Users\\\\katsu\\\\Desktop\\\\projects\\\\data_analystics\\\\python_de_textmining\\\\data\\\\writers/ogai_vita.txt',\n",
       " 'c:\\\\Users\\\\katsu\\\\Desktop\\\\projects\\\\data_analystics\\\\python_de_textmining\\\\data\\\\writers/soseki_eijitsu.txt',\n",
       " 'c:\\\\Users\\\\katsu\\\\Desktop\\\\projects\\\\data_analystics\\\\python_de_textmining\\\\data\\\\writers/soseki_garasu.txt',\n",
       " 'c:\\\\Users\\\\katsu\\\\Desktop\\\\projects\\\\data_analystics\\\\python_de_textmining\\\\data\\\\writers/soseki_omoidasu.txt',\n",
       " 'c:\\\\Users\\\\katsu\\\\Desktop\\\\projects\\\\data_analystics\\\\python_de_textmining\\\\data\\\\writers/soseki_yume.txt']"
      ]
     },
     "execution_count": 4,
     "metadata": {},
     "output_type": "execute_result"
    }
   ],
   "source": [
    "path=os.path.abspath(\"./data/writers\")\n",
    "files_path=[path + \"/\" + txt_name for txt_name in files]\n",
    "files_path"
   ]
  },
  {
   "cell_type": "code",
   "execution_count": 5,
   "metadata": {},
   "outputs": [
    {
     "data": {
      "text/plain": [
       "<8x26554 sparse matrix of type '<class 'numpy.int64'>'\n",
       "\twith 48176 stored elements in Compressed Sparse Row format>"
      ]
     },
     "execution_count": 5,
     "metadata": {},
     "output_type": "execute_result"
    }
   ],
   "source": [
    "from sklearn.feature_extraction.text import CountVectorizer\n",
    "cv=CountVectorizer(input='filename',ngram_range=(2,2),analyzer='char')\n",
    "docs=cv.fit_transform(files_path)\n",
    "docs"
   ]
  },
  {
   "cell_type": "code",
   "execution_count": 7,
   "metadata": {},
   "outputs": [
    {
     "name": "stdout",
     "output_type": "stream",
     "text": [
      "[(3223, 'が、'), (5718, 'て、'), (6244, 'で、'), (6605, 'と、'), (7448, 'に、'), (9336, 'は、'), (10632, 'も、'), (11223, 'ら、')]\n"
     ]
    }
   ],
   "source": [
    "bigrams=[(v,k) for k,v in (cv.vocabulary_).items() if k in ['が、','て、','と、','に、','は、','も、','ら、','で、']]\n",
    "print(sorted(bigrams))"
   ]
  },
  {
   "cell_type": "code",
   "execution_count": 11,
   "metadata": {},
   "outputs": [
    {
     "data": {
      "text/plain": [
       "['が、', 'て、', 'で、', 'と、', 'に、', 'は、', 'も、', 'ら、']"
      ]
     },
     "execution_count": 11,
     "metadata": {},
     "output_type": "execute_result"
    }
   ],
   "source": [
    "bigrams_features=[i[1] for i in sorted(bigrams)]\n",
    "bigrams_features"
   ]
  },
  {
   "cell_type": "code",
   "execution_count": 19,
   "metadata": {},
   "outputs": [
    {
     "name": "stdout",
     "output_type": "stream",
     "text": [
      "[3223, 5718, 6244, 6605, 7448, 9336, 10632, 11223]\n"
     ]
    },
    {
     "data": {
      "text/plain": [
       "array([[ 66, 167,  67,  47,  55,  73,  10,  44],\n",
       "       [ 66, 194,  52,  34,  81,  67,  25,  34],\n",
       "       [ 48, 135,  76,  29,  36,  35,  14,  37],\n",
       "       [ 63, 112,  53,  36,  47,  69,  21,  35],\n",
       "       [ 31, 143,  37,  86,  41,  40,  22,  51],\n",
       "       [ 28,  70,  36,  24,  41,  39,  10,  33],\n",
       "       [ 38, 102,  46,  29,  32,  42,  18,  28],\n",
       "       [ 33, 138,  38,  41,  39,  22,  13,  44]], dtype=int64)"
      ]
     },
     "execution_count": 19,
     "metadata": {},
     "output_type": "execute_result"
    }
   ],
   "source": [
    "bigrams_idx=[i[0] for i in sorted(bigrams)]\n",
    "print(bigrams_idx)\n",
    "docs.toarray()[:,bigrams_idx]\n",
    "#docs.toarray()"
   ]
  },
  {
   "cell_type": "code",
   "execution_count": 12,
   "metadata": {},
   "outputs": [
    {
     "data": {
      "text/html": [
       "<div>\n",
       "<style scoped>\n",
       "    .dataframe tbody tr th:only-of-type {\n",
       "        vertical-align: middle;\n",
       "    }\n",
       "\n",
       "    .dataframe tbody tr th {\n",
       "        vertical-align: top;\n",
       "    }\n",
       "\n",
       "    .dataframe thead th {\n",
       "        text-align: right;\n",
       "    }\n",
       "</style>\n",
       "<table border=\"1\" class=\"dataframe\">\n",
       "  <thead>\n",
       "    <tr style=\"text-align: right;\">\n",
       "      <th></th>\n",
       "      <th>が、</th>\n",
       "      <th>て、</th>\n",
       "      <th>で、</th>\n",
       "      <th>と、</th>\n",
       "      <th>に、</th>\n",
       "      <th>は、</th>\n",
       "      <th>も、</th>\n",
       "      <th>ら、</th>\n",
       "    </tr>\n",
       "  </thead>\n",
       "  <tbody>\n",
       "    <tr>\n",
       "      <th>ogai_gan.txt</th>\n",
       "      <td>66</td>\n",
       "      <td>167</td>\n",
       "      <td>67</td>\n",
       "      <td>47</td>\n",
       "      <td>55</td>\n",
       "      <td>73</td>\n",
       "      <td>10</td>\n",
       "      <td>44</td>\n",
       "    </tr>\n",
       "    <tr>\n",
       "      <th>ogai_kanoyoni.txt</th>\n",
       "      <td>66</td>\n",
       "      <td>194</td>\n",
       "      <td>52</td>\n",
       "      <td>34</td>\n",
       "      <td>81</td>\n",
       "      <td>67</td>\n",
       "      <td>25</td>\n",
       "      <td>34</td>\n",
       "    </tr>\n",
       "    <tr>\n",
       "      <th>ogai_niwatori.txt</th>\n",
       "      <td>48</td>\n",
       "      <td>135</td>\n",
       "      <td>76</td>\n",
       "      <td>29</td>\n",
       "      <td>36</td>\n",
       "      <td>35</td>\n",
       "      <td>14</td>\n",
       "      <td>37</td>\n",
       "    </tr>\n",
       "    <tr>\n",
       "      <th>ogai_vita.txt</th>\n",
       "      <td>63</td>\n",
       "      <td>112</td>\n",
       "      <td>53</td>\n",
       "      <td>36</td>\n",
       "      <td>47</td>\n",
       "      <td>69</td>\n",
       "      <td>21</td>\n",
       "      <td>35</td>\n",
       "    </tr>\n",
       "    <tr>\n",
       "      <th>soseki_eijitsu.txt</th>\n",
       "      <td>31</td>\n",
       "      <td>143</td>\n",
       "      <td>37</td>\n",
       "      <td>86</td>\n",
       "      <td>41</td>\n",
       "      <td>40</td>\n",
       "      <td>22</td>\n",
       "      <td>51</td>\n",
       "    </tr>\n",
       "    <tr>\n",
       "      <th>soseki_garasu.txt</th>\n",
       "      <td>28</td>\n",
       "      <td>70</td>\n",
       "      <td>36</td>\n",
       "      <td>24</td>\n",
       "      <td>41</td>\n",
       "      <td>39</td>\n",
       "      <td>10</td>\n",
       "      <td>33</td>\n",
       "    </tr>\n",
       "    <tr>\n",
       "      <th>soseki_omoidasu.txt</th>\n",
       "      <td>38</td>\n",
       "      <td>102</td>\n",
       "      <td>46</td>\n",
       "      <td>29</td>\n",
       "      <td>32</td>\n",
       "      <td>42</td>\n",
       "      <td>18</td>\n",
       "      <td>28</td>\n",
       "    </tr>\n",
       "    <tr>\n",
       "      <th>soseki_yume.txt</th>\n",
       "      <td>33</td>\n",
       "      <td>138</td>\n",
       "      <td>38</td>\n",
       "      <td>41</td>\n",
       "      <td>39</td>\n",
       "      <td>22</td>\n",
       "      <td>13</td>\n",
       "      <td>44</td>\n",
       "    </tr>\n",
       "  </tbody>\n",
       "</table>\n",
       "</div>"
      ],
      "text/plain": [
       "                     が、   て、  で、  と、  に、  は、  も、  ら、\n",
       "ogai_gan.txt         66  167  67  47  55  73  10  44\n",
       "ogai_kanoyoni.txt    66  194  52  34  81  67  25  34\n",
       "ogai_niwatori.txt    48  135  76  29  36  35  14  37\n",
       "ogai_vita.txt        63  112  53  36  47  69  21  35\n",
       "soseki_eijitsu.txt   31  143  37  86  41  40  22  51\n",
       "soseki_garasu.txt    28   70  36  24  41  39  10  33\n",
       "soseki_omoidasu.txt  38  102  46  29  32  42  18  28\n",
       "soseki_yume.txt      33  138  38  41  39  22  13  44"
      ]
     },
     "execution_count": 12,
     "metadata": {},
     "output_type": "execute_result"
    }
   ],
   "source": [
    "import pandas as pd\n",
    "bigrams_df=pd.DataFrame(docs.toarray()[:,bigrams_idx],columns=bigrams_features,index=files)\n",
    "bigrams_df"
   ]
  }
 ],
 "metadata": {
  "kernelspec": {
   "display_name": "Python 3.9.4 64-bit",
   "language": "python",
   "name": "python3"
  },
  "language_info": {
   "codemirror_mode": {
    "name": "ipython",
    "version": 3
   },
   "file_extension": ".py",
   "mimetype": "text/x-python",
   "name": "python",
   "nbconvert_exporter": "python",
   "pygments_lexer": "ipython3",
   "version": "3.9.4"
  },
  "orig_nbformat": 4,
  "vscode": {
   "interpreter": {
    "hash": "25ce21f62559348607c4913fcc64f108901b78d5a1e5109915346e4d210f89da"
   }
  }
 },
 "nbformat": 4,
 "nbformat_minor": 2
}
