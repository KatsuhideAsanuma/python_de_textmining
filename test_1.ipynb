{
 "cells": [
  {
   "cell_type": "code",
   "execution_count": 2,
   "metadata": {},
   "outputs": [
    {
     "data": {
      "text/plain": [
       "'c:\\\\Users\\\\katsu\\\\Desktop\\\\projects\\\\data_analystics\\\\python_de_textmining'"
      ]
     },
     "execution_count": 2,
     "metadata": {},
     "output_type": "execute_result"
    }
   ],
   "source": [
    "import os\n",
    "os.getcwd()"
   ]
  },
  {
   "cell_type": "code",
   "execution_count": 3,
   "metadata": {},
   "outputs": [
    {
     "data": {
      "text/plain": [
       "['ogai_gan.txt',\n",
       " 'ogai_kanoyoni.txt',\n",
       " 'ogai_niwatori.txt',\n",
       " 'ogai_vita.txt',\n",
       " 'soseki_eijitsu.txt',\n",
       " 'soseki_garasu.txt',\n",
       " 'soseki_omoidasu.txt',\n",
       " 'soseki_yume.txt']"
      ]
     },
     "execution_count": 3,
     "metadata": {},
     "output_type": "execute_result"
    }
   ],
   "source": [
    "files=os.listdir(\"./data/writers\")\n",
    "files=sorted(files)\n",
    "files"
   ]
  },
  {
   "cell_type": "code",
   "execution_count": 4,
   "metadata": {},
   "outputs": [
    {
     "data": {
      "text/plain": [
       "['c:\\\\Users\\\\katsu\\\\Desktop\\\\projects\\\\data_analystics\\\\python_de_textmining\\\\data\\\\writers/ogai_gan.txt',\n",
       " 'c:\\\\Users\\\\katsu\\\\Desktop\\\\projects\\\\data_analystics\\\\python_de_textmining\\\\data\\\\writers/ogai_kanoyoni.txt',\n",
       " 'c:\\\\Users\\\\katsu\\\\Desktop\\\\projects\\\\data_analystics\\\\python_de_textmining\\\\data\\\\writers/ogai_niwatori.txt',\n",
       " 'c:\\\\Users\\\\katsu\\\\Desktop\\\\projects\\\\data_analystics\\\\python_de_textmining\\\\data\\\\writers/ogai_vita.txt',\n",
       " 'c:\\\\Users\\\\katsu\\\\Desktop\\\\projects\\\\data_analystics\\\\python_de_textmining\\\\data\\\\writers/soseki_eijitsu.txt',\n",
       " 'c:\\\\Users\\\\katsu\\\\Desktop\\\\projects\\\\data_analystics\\\\python_de_textmining\\\\data\\\\writers/soseki_garasu.txt',\n",
       " 'c:\\\\Users\\\\katsu\\\\Desktop\\\\projects\\\\data_analystics\\\\python_de_textmining\\\\data\\\\writers/soseki_omoidasu.txt',\n",
       " 'c:\\\\Users\\\\katsu\\\\Desktop\\\\projects\\\\data_analystics\\\\python_de_textmining\\\\data\\\\writers/soseki_yume.txt']"
      ]
     },
     "execution_count": 4,
     "metadata": {},
     "output_type": "execute_result"
    }
   ],
   "source": [
    "path=os.path.abspath(\"./data/writers\")\n",
    "files_path=[path + \"/\" + txt_name for txt_name in files]\n",
    "files_path"
   ]
  },
  {
   "cell_type": "code",
   "execution_count": 5,
   "metadata": {},
   "outputs": [
    {
     "data": {
      "text/plain": [
       "<8x26554 sparse matrix of type '<class 'numpy.int64'>'\n",
       "\twith 48176 stored elements in Compressed Sparse Row format>"
      ]
     },
     "execution_count": 5,
     "metadata": {},
     "output_type": "execute_result"
    }
   ],
   "source": [
    "from sklearn.feature_extraction.text import CountVectorizer\n",
    "cv=CountVectorizer(input='filename',ngram_range=(2,2),analyzer='char')\n",
    "docs=cv.fit_transform(files_path)\n",
    "docs"
   ]
  },
  {
   "cell_type": "code",
   "execution_count": 6,
   "metadata": {},
   "outputs": [
    {
     "name": "stdout",
     "output_type": "stream",
     "text": [
      "[(3223, 'が、'), (5718, 'て、'), (6244, 'で、'), (6605, 'と、'), (7448, 'に、'), (9336, 'は、'), (10632, 'も、'), (11223, 'ら、')]\n"
     ]
    }
   ],
   "source": [
    "bigrams=[(v,k) for k,v in (cv.vocabulary_).items() if k in ['が、','て、','と、','に、','は、','も、','ら、','で、']]\n",
    "print(sorted(bigrams))"
   ]
  },
  {
   "cell_type": "code",
   "execution_count": 7,
   "metadata": {},
   "outputs": [
    {
     "data": {
      "text/plain": [
       "['が、', 'て、', 'で、', 'と、', 'に、', 'は、', 'も、', 'ら、']"
      ]
     },
     "execution_count": 7,
     "metadata": {},
     "output_type": "execute_result"
    }
   ],
   "source": [
    "bigrams_features=[i[1] for i in sorted(bigrams)]\n",
    "bigrams_features"
   ]
  },
  {
   "cell_type": "code",
   "execution_count": 8,
   "metadata": {},
   "outputs": [
    {
     "name": "stdout",
     "output_type": "stream",
     "text": [
      "[3223, 5718, 6244, 6605, 7448, 9336, 10632, 11223]\n"
     ]
    },
    {
     "data": {
      "text/plain": [
       "array([[ 66, 167,  67,  47,  55,  73,  10,  44],\n",
       "       [ 66, 194,  52,  34,  81,  67,  25,  34],\n",
       "       [ 48, 135,  76,  29,  36,  35,  14,  37],\n",
       "       [ 63, 112,  53,  36,  47,  69,  21,  35],\n",
       "       [ 31, 143,  37,  86,  41,  40,  22,  51],\n",
       "       [ 28,  70,  36,  24,  41,  39,  10,  33],\n",
       "       [ 38, 102,  46,  29,  32,  42,  18,  28],\n",
       "       [ 33, 138,  38,  41,  39,  22,  13,  44]], dtype=int64)"
      ]
     },
     "execution_count": 8,
     "metadata": {},
     "output_type": "execute_result"
    }
   ],
   "source": [
    "bigrams_idx=[i[0] for i in sorted(bigrams)]\n",
    "print(bigrams_idx)\n",
    "docs.toarray()[:,bigrams_idx]\n",
    "#docs.toarray()"
   ]
  },
  {
   "cell_type": "code",
   "execution_count": 9,
   "metadata": {},
   "outputs": [
    {
     "data": {
      "text/html": [
       "<div>\n",
       "<style scoped>\n",
       "    .dataframe tbody tr th:only-of-type {\n",
       "        vertical-align: middle;\n",
       "    }\n",
       "\n",
       "    .dataframe tbody tr th {\n",
       "        vertical-align: top;\n",
       "    }\n",
       "\n",
       "    .dataframe thead th {\n",
       "        text-align: right;\n",
       "    }\n",
       "</style>\n",
       "<table border=\"1\" class=\"dataframe\">\n",
       "  <thead>\n",
       "    <tr style=\"text-align: right;\">\n",
       "      <th></th>\n",
       "      <th>が、</th>\n",
       "      <th>て、</th>\n",
       "      <th>で、</th>\n",
       "      <th>と、</th>\n",
       "      <th>に、</th>\n",
       "      <th>は、</th>\n",
       "      <th>も、</th>\n",
       "      <th>ら、</th>\n",
       "    </tr>\n",
       "  </thead>\n",
       "  <tbody>\n",
       "    <tr>\n",
       "      <th>ogai_gan.txt</th>\n",
       "      <td>66</td>\n",
       "      <td>167</td>\n",
       "      <td>67</td>\n",
       "      <td>47</td>\n",
       "      <td>55</td>\n",
       "      <td>73</td>\n",
       "      <td>10</td>\n",
       "      <td>44</td>\n",
       "    </tr>\n",
       "    <tr>\n",
       "      <th>ogai_kanoyoni.txt</th>\n",
       "      <td>66</td>\n",
       "      <td>194</td>\n",
       "      <td>52</td>\n",
       "      <td>34</td>\n",
       "      <td>81</td>\n",
       "      <td>67</td>\n",
       "      <td>25</td>\n",
       "      <td>34</td>\n",
       "    </tr>\n",
       "    <tr>\n",
       "      <th>ogai_niwatori.txt</th>\n",
       "      <td>48</td>\n",
       "      <td>135</td>\n",
       "      <td>76</td>\n",
       "      <td>29</td>\n",
       "      <td>36</td>\n",
       "      <td>35</td>\n",
       "      <td>14</td>\n",
       "      <td>37</td>\n",
       "    </tr>\n",
       "    <tr>\n",
       "      <th>ogai_vita.txt</th>\n",
       "      <td>63</td>\n",
       "      <td>112</td>\n",
       "      <td>53</td>\n",
       "      <td>36</td>\n",
       "      <td>47</td>\n",
       "      <td>69</td>\n",
       "      <td>21</td>\n",
       "      <td>35</td>\n",
       "    </tr>\n",
       "    <tr>\n",
       "      <th>soseki_eijitsu.txt</th>\n",
       "      <td>31</td>\n",
       "      <td>143</td>\n",
       "      <td>37</td>\n",
       "      <td>86</td>\n",
       "      <td>41</td>\n",
       "      <td>40</td>\n",
       "      <td>22</td>\n",
       "      <td>51</td>\n",
       "    </tr>\n",
       "    <tr>\n",
       "      <th>soseki_garasu.txt</th>\n",
       "      <td>28</td>\n",
       "      <td>70</td>\n",
       "      <td>36</td>\n",
       "      <td>24</td>\n",
       "      <td>41</td>\n",
       "      <td>39</td>\n",
       "      <td>10</td>\n",
       "      <td>33</td>\n",
       "    </tr>\n",
       "    <tr>\n",
       "      <th>soseki_omoidasu.txt</th>\n",
       "      <td>38</td>\n",
       "      <td>102</td>\n",
       "      <td>46</td>\n",
       "      <td>29</td>\n",
       "      <td>32</td>\n",
       "      <td>42</td>\n",
       "      <td>18</td>\n",
       "      <td>28</td>\n",
       "    </tr>\n",
       "    <tr>\n",
       "      <th>soseki_yume.txt</th>\n",
       "      <td>33</td>\n",
       "      <td>138</td>\n",
       "      <td>38</td>\n",
       "      <td>41</td>\n",
       "      <td>39</td>\n",
       "      <td>22</td>\n",
       "      <td>13</td>\n",
       "      <td>44</td>\n",
       "    </tr>\n",
       "  </tbody>\n",
       "</table>\n",
       "</div>"
      ],
      "text/plain": [
       "                     が、   て、  で、  と、  に、  は、  も、  ら、\n",
       "ogai_gan.txt         66  167  67  47  55  73  10  44\n",
       "ogai_kanoyoni.txt    66  194  52  34  81  67  25  34\n",
       "ogai_niwatori.txt    48  135  76  29  36  35  14  37\n",
       "ogai_vita.txt        63  112  53  36  47  69  21  35\n",
       "soseki_eijitsu.txt   31  143  37  86  41  40  22  51\n",
       "soseki_garasu.txt    28   70  36  24  41  39  10  33\n",
       "soseki_omoidasu.txt  38  102  46  29  32  42  18  28\n",
       "soseki_yume.txt      33  138  38  41  39  22  13  44"
      ]
     },
     "execution_count": 9,
     "metadata": {},
     "output_type": "execute_result"
    }
   ],
   "source": [
    "import pandas as pd\n",
    "bigrams_df=pd.DataFrame(docs.toarray()[:,bigrams_idx],columns=bigrams_features,index=files)\n",
    "bigrams_df"
   ]
  },
  {
   "cell_type": "code",
   "execution_count": 12,
   "metadata": {},
   "outputs": [
    {
     "data": {
      "text/plain": [
       "ogai_gan.txt           66\n",
       "ogai_kanoyoni.txt      66\n",
       "ogai_niwatori.txt      48\n",
       "ogai_vita.txt          63\n",
       "soseki_eijitsu.txt     31\n",
       "soseki_garasu.txt      28\n",
       "soseki_omoidasu.txt    38\n",
       "soseki_yume.txt        33\n",
       "Name: が、, dtype: int64"
      ]
     },
     "execution_count": 12,
     "metadata": {},
     "output_type": "execute_result"
    }
   ],
   "source": [
    "bigrams_df['が、']"
   ]
  },
  {
   "cell_type": "code",
   "execution_count": 15,
   "metadata": {},
   "outputs": [
    {
     "data": {
      "text/plain": [
       "[<matplotlib.lines.Line2D at 0x1eb045b56a0>]"
      ]
     },
     "execution_count": 15,
     "metadata": {},
     "output_type": "execute_result"
    },
    {
     "data": {
      "image/png": "[encoded data removed]",
      "text/plain": [
       "<Figure size 432x288 with 1 Axes>"
      ]
     },
     "metadata": {},
     "output_type": "display_data"
    }
   ],
   "source": [
    "%matplotlib inline\n",
    "import matplotlib.pyplot as plt\n",
    "plt.style.use('ggplot')\n",
    "x=[1,2,3,4,5]\n",
    "y=[10,20,30,40,50]\n",
    "fig=plt.figure()\n",
    "ax=fig.subplots()\n",
    "ax.plot(x,y,color='g')"
   ]
  },
  {
   "cell_type": "code",
   "execution_count": 16,
   "metadata": {},
   "outputs": [
    {
     "data": {
      "text/plain": [
       "<BarContainer object of 5 artists>"
      ]
     },
     "execution_count": 16,
     "metadata": {},
     "output_type": "execute_result"
    },
    {
     "data": {
      "image/png": "[encoded data removed]",
      "text/plain": [
       "<Figure size 432x288 with 1 Axes>"
      ]
     },
     "metadata": {},
     "output_type": "display_data"
    }
   ],
   "source": [
    "fig,ax=plt.subplots()\n",
    "ax.bar(x,y)"
   ]
  },
  {
   "cell_type": "code",
   "execution_count": 17,
   "metadata": {},
   "outputs": [
    {
     "data": {
      "text/plain": [
       "Text(0.5, 1.0, 'Scatter Plot')"
      ]
     },
     "execution_count": 17,
     "metadata": {},
     "output_type": "execute_result"
    },
    {
     "data": {
      "image/png": "[encoded data removed]",
      "text/plain": [
       "<Figure size 432x288 with 3 Axes>"
      ]
     },
     "metadata": {},
     "output_type": "display_data"
    }
   ],
   "source": [
    "fig=plt.figure()\n",
    "ax1=fig.add_subplot(2,2,1)\n",
    "ax2=fig.add_subplot(2,2,2)\n",
    "ax3=fig.add_subplot(2,2,3)\n",
    "ax1.bar(x,y)\n",
    "ax1.set_title('Bar Plot')\n",
    "ax3.scatter(x,y)\n",
    "ax3.set_title('Scatter Plot')"
   ]
  },
  {
   "cell_type": "code",
   "execution_count": 18,
   "metadata": {},
   "outputs": [
    {
     "data": {
      "text/plain": [
       "<seaborn.axisgrid.JointGrid at 0x1eb04650d90>"
      ]
     },
     "execution_count": 18,
     "metadata": {},
     "output_type": "execute_result"
    },
    {
     "data": {
      "image/png": "[encoded data removed]",
      "text/plain": [
       "<Figure size 432x432 with 3 Axes>"
      ]
     },
     "metadata": {},
     "output_type": "display_data"
    }
   ],
   "source": [
    "import seaborn as sns\n",
    "iris=sns.load_dataset('iris')\n",
    "sns.jointplot(x='sepal_width',y='petal_length',data=iris)"
   ]
  },
  {
   "cell_type": "code",
   "execution_count": 20,
   "metadata": {},
   "outputs": [
    {
     "name": "stdout",
     "output_type": "stream",
     "text": [
      ".. _iris_dataset:\n",
      "\n",
      "Iris plants dataset\n",
      "--------------------\n",
      "\n",
      "**Data Set Characteristics:**\n",
      "\n",
      "    :Number of Instances: 150 (50 in each of three classes)\n",
      "    :Number of Attributes: 4 numeric, predictive attributes and the class\n",
      "    :Attribute Information:\n",
      "        - sepal length in cm\n",
      "        - sepal width in cm\n",
      "        - petal length in cm\n",
      "        - petal width in cm\n",
      "        - class:\n",
      "                - Iris-Setosa\n",
      "                - Iris-Versicolour\n",
      "                - Iris-Virginica\n",
      "                \n",
      "    :Summary Statistics:\n",
      "\n",
      "    ============== ==== ==== ======= ===== ====================\n",
      "                    Min  Max   Mean    SD   Class Correlation\n",
      "    ============== ==== ==== ======= ===== ====================\n",
      "    sepal length:   4.3  7.9   5.84   0.83    0.7826\n",
      "    sepal width:    2.0  4.4   3.05   0.43   -0.4194\n",
      "    petal length:   1.0  6.9   3.76   1.76    0.9490  (high!)\n",
      "    petal width:    0.1  2.5   1.20   0.76    0.9565  (high!)\n",
      "    ============== ==== ==== ======= ===== ====================\n",
      "\n",
      "    :Missing Attribute Values: None\n",
      "    :Class Distribution: 33.3% for each of 3 classes.\n",
      "    :Creator: R.A. Fisher\n",
      "    :Donor: Michael Marshall (MARSHALL%PLU@io.arc.nasa.gov)\n",
      "    :Date: July, 1988\n",
      "\n",
      "The famous Iris database, first used by Sir R.A. Fisher. The dataset is taken\n",
      "from Fisher's paper. Note that it's the same as in R, but not as in the UCI\n",
      "Machine Learning Repository, which has two wrong data points.\n",
      "\n",
      "This is perhaps the best known database to be found in the\n",
      "pattern recognition literature.  Fisher's paper is a classic in the field and\n",
      "is referenced frequently to this day.  (See Duda & Hart, for example.)  The\n",
      "data set contains 3 classes of 50 instances each, where each class refers to a\n",
      "type of iris plant.  One class is linearly separable from the other 2; the\n",
      "latter are NOT linearly separable from each other.\n",
      "\n",
      ".. topic:: References\n",
      "\n",
      "   - Fisher, R.A. \"The use of multiple measurements in taxonomic problems\"\n",
      "     Annual Eugenics, 7, Part II, 179-188 (1936); also in \"Contributions to\n",
      "     Mathematical Statistics\" (John Wiley, NY, 1950).\n",
      "   - Duda, R.O., & Hart, P.E. (1973) Pattern Classification and Scene Analysis.\n",
      "     (Q327.D83) John Wiley & Sons.  ISBN 0-471-22361-1.  See page 218.\n",
      "   - Dasarathy, B.V. (1980) \"Nosing Around the Neighborhood: A New System\n",
      "     Structure and Classification Rule for Recognition in Partially Exposed\n",
      "     Environments\".  IEEE Transactions on Pattern Analysis and Machine\n",
      "     Intelligence, Vol. PAMI-2, No. 1, 67-71.\n",
      "   - Gates, G.W. (1972) \"The Reduced Nearest Neighbor Rule\".  IEEE Transactions\n",
      "     on Information Theory, May 1972, 431-433.\n",
      "   - See also: 1988 MLC Proceedings, 54-64.  Cheeseman et al\"s AUTOCLASS II\n",
      "     conceptual clustering system finds 3 classes in the data.\n",
      "   - Many, many more ...\n"
     ]
    }
   ],
   "source": [
    "from sklearn.datasets import load_iris\n",
    "iris_dataset=load_iris()\n",
    "print(iris_dataset.DESCR)"
   ]
  }
 ],
 "metadata": {
  "kernelspec": {
   "display_name": "Python 3.9.4 64-bit",
   "language": "python",
   "name": "python3"
  },
  "language_info": {
   "codemirror_mode": {
    "name": "ipython",
    "version": 3
   },
   "file_extension": ".py",
   "mimetype": "text/x-python",
   "name": "python",
   "nbconvert_exporter": "python",
   "pygments_lexer": "ipython3",
   "version": "3.9.4"
  },
  "orig_nbformat": 4,
  "vscode": {
   "interpreter": {
    "hash": "25ce21f62559348607c4913fcc64f108901b78d5a1e5109915346e4d210f89da"
   }
  }
 },
 "nbformat": 4,
 "nbformat_minor": 2
}
